{
 "metadata": {
  "celltoolbar": "Slideshow",
  "name": "",
  "signature": "sha256:930544bc9f95019579ddee827520dbc737b685b379fc275b9a34e8e5b76464fb"
 },
 "nbformat": 3,
 "nbformat_minor": 0,
 "worksheets": [
  {
   "cells": [
    {
     "cell_type": "heading",
     "level": 1,
     "source": [
      "Introduction"
     ]
    },
    {
     "cell_type": "markdown",
     "source": [
      "*pandas is an open source, BSD-licensed library providing high-performance, easy-to-use data structures and data analysis tools for the Python programming language.*\n",
      "\n",
      "\n",
      "Different ways of describing pandas:\n",
      "\n",
      "* A spread sheet in a python variable.\n",
      "* An alternative to R - A language for statistically computing\n",
      "* An alternative to sql(ite3)\n",
      "\n",
      "What problem does pandas solve?\n",
      "\n",
      "* (Time) series handling.\n",
      "* Tabular data manipulation.\n",
      "* Cleanup - data munging or data wrangling\n",
      "\n",
      "Origin and usage:\n",
      "\n",
      "* Wes McKinney\n",
      "* Home page: http://pandas.pydata.org/"
     ]
    },
    {
     "cell_type": "heading",
     "level": 1,
     "source": [
      "Installing"
     ]
    },
    {
     "cell_type": "markdown",
     "source": [
      "* apt-get\n",
      "* yum or dnf\n",
      "* pip\n",
      "* from source\n",
      "\n",
      "## Prerequisites\n",
      "\n",
      "* Numpy\n",
      "* Matplotlib"
     ]
    },
    {
     "cell_type": "heading",
     "level": 1,
     "source": [
      "Setup or let's get rolling"
     ]
    },
    {
     "cell_type": "markdown",
     "source": [
      "* This slideshow is a ipython notebook.\n",
      "* Do imports and figure setup."
     ]
    },
    {
     "cell_type": "code",
     "collapsed": false,
     "input": [
      "%matplotlib inline\n",
      "import pandas as pd\n",
      "import numpy as np\n",
      "from numpy.random import randn\n",
      "import datetime\n",
      "from datetime import date\n",
      "import matplotlib.pylab as plt\n",
      "from IPython.display import Image\n",
      "\n",
      "# Setup matplotlib for slideshow\n",
      "plt.style.use('ggplot')\n",
      "plt.rcParams['font.size'] = 16\n",
      "plt.rcParams['figure.figsize'] = (8,6)\n",
      "\n",
      "print pd.version.version"
     ],
     "language": "python",
     "outputs": [
      {
       "output_type": "stream",
       "stream": "stdout",
       "text": [
        "0.16.2\n"
       ]
      }
     ],
     "prompt_number": 85
    },
    {
     "cell_type": "heading",
     "level": 1,
     "source": [
      "Datatypes 1 - The `Series`"
     ]
    },
    {
     "cell_type": "markdown",
     "source": [
      "* Like a `nameddic` but values of same type.\n",
      "* Similar to (inherits from) a `numpy` (n\u00d71) array.\n",
      "* Can have heterogeneous data of type `object`.\n",
      "* The index may be multilevel, or a time series.\n",
      "* Arithmetics automatically lines up keys."
     ]
    },
    {
     "cell_type": "heading",
     "level": 1,
     "source": [
      "`Series` construction from lists"
     ]
    },
    {
     "cell_type": "code",
     "collapsed": false,
     "input": [
      "s = pd.Series([1,4,9,16,25]) ; s"
     ],
     "language": "python",
     "outputs": [
      {
       "output_type": "pyout",
       "prompt_number": 86,
       "text": [
        "0     1\n",
        "1     4\n",
        "2     9\n",
        "3    16\n",
        "4    25\n",
        "dtype: int64"
       ]
      }
     ],
     "prompt_number": 86
    },
    {
     "cell_type": "code",
     "collapsed": false,
     "input": [
      "s = pd.Series(['Israel', 'ISL', 32.550, 21640.0], \n",
      "              index = ['Country',\n",
      "                       'Code',\n",
      "                       'GNI per capita ($)',\n",
      "                       'Land Area (sq. km)']) ; s2"
     ],
     "language": "python",
     "outputs": [
      {
       "output_type": "pyout",
       "prompt_number": 87,
       "text": [
        "1    20\n",
        "3    23\n",
        "4    29\n",
        "dtype: int64"
       ]
      }
     ],
     "prompt_number": 87
    },
    {
     "cell_type": "heading",
     "level": 1,
     "source": [
      "Series access"
     ]
    },
    {
     "cell_type": "markdown",
     "source": [
      "* Access as `dic`"
     ]
    },
    {
     "cell_type": "code",
     "collapsed": false,
     "input": [
      "s['Country']"
     ],
     "language": "python",
     "outputs": [
      {
       "output_type": "pyout",
       "prompt_number": 88,
       "text": [
        "'Israel'"
       ]
      }
     ],
     "prompt_number": 88
    },
    {
     "cell_type": "markdown",
     "source": [
      "or as named properties"
     ]
    },
    {
     "cell_type": "code",
     "collapsed": false,
     "input": [
      "s.Country"
     ],
     "language": "python",
     "outputs": [
      {
       "output_type": "pyout",
       "prompt_number": 89,
       "text": [
        "'Israel'"
       ]
      }
     ],
     "prompt_number": 89
    },
    {
     "cell_type": "heading",
     "level": 1,
     "source": [
      "Series construction with a `DateTimeIndex`"
     ]
    },
    {
     "cell_type": "markdown",
     "source": [
      "* pandas includes lots of time series support. (Financial connection)"
     ]
    },
    {
     "cell_type": "code",
     "collapsed": false,
     "input": [
      "s = pd.Series(np.random.randn(12),\n",
      "              index = pd.DatetimeIndex(start=date(2015,1,1),\n",
      "                                       end=date(2016,1,1),\n",
      "                                       freq='1M'))\n",
      "s"
     ],
     "language": "python",
     "outputs": [
      {
       "output_type": "pyout",
       "prompt_number": 90,
       "text": [
        "2015-01-31    0.344020\n",
        "2015-02-28   -2.312846\n",
        "2015-03-31   -1.461869\n",
        "2015-04-30   -1.030195\n",
        "2015-05-31   -0.153836\n",
        "2015-06-30   -1.879453\n",
        "2015-07-31    0.299821\n",
        "2015-08-31    1.014753\n",
        "2015-09-30    0.032649\n",
        "2015-10-31    0.813325\n",
        "2015-11-30    0.817849\n",
        "2015-12-31    1.333349\n",
        "Freq: M, dtype: float64"
       ]
      }
     ],
     "prompt_number": 90
    },
    {
     "cell_type": "heading",
     "level": 1,
     "source": [
      "Almost everything can be plotted."
     ]
    },
    {
     "cell_type": "code",
     "collapsed": false,
     "input": [
      "ax = s.plot(label='Time Data',legend=True)\n",
      "s.cumsum().plot(title='A Random cumulative sum plot',\n",
      "                ax=ax,   # Reuse axis!\n",
      "                label='CumSum',\n",
      "                legend=True)\n"
     ],
     "language": "python",
     "outputs": [
      {
       "output_type": "pyout",
       "prompt_number": 91,
       "text": [
        "<matplotlib.axes._subplots.AxesSubplot at 0x7f963e13e550>"
       ]
      },
      {
       "output_type": "display_data",
       "png": "[encoded data removed]",
       "text": [
        "<matplotlib.figure.Figure at 0x7f963e534950>"
       ]
      }
     ],
     "prompt_number": 91
    },
    {
     "cell_type": "heading",
     "level": 1,
     "source": [
      "Selection"
     ]
    },
    {
     "cell_type": "markdown",
     "source": [
      "* Pandas provides selections\n",
      "\n",
      "## Selection through binary array"
     ]
    },
    {
     "cell_type": "code",
     "collapsed": false,
     "input": [
      "s>0"
     ],
     "language": "python",
     "outputs": [
      {
       "output_type": "pyout",
       "prompt_number": 92,
       "text": [
        "2015-01-31     True\n",
        "2015-02-28    False\n",
        "2015-03-31    False\n",
        "2015-04-30    False\n",
        "2015-05-31    False\n",
        "2015-06-30    False\n",
        "2015-07-31     True\n",
        "2015-08-31     True\n",
        "2015-09-30     True\n",
        "2015-10-31     True\n",
        "2015-11-30     True\n",
        "2015-12-31     True\n",
        "Freq: M, dtype: bool"
       ]
      }
     ],
     "prompt_number": 92
    },
    {
     "cell_type": "code",
     "collapsed": false,
     "input": [
      "# Only show True values\n",
      "s[s>0]"
     ],
     "language": "python",
     "outputs": [
      {
       "output_type": "pyout",
       "prompt_number": 93,
       "text": [
        "2015-01-31    0.344020\n",
        "2015-07-31    0.299821\n",
        "2015-08-31    1.014753\n",
        "2015-09-30    0.032649\n",
        "2015-10-31    0.813325\n",
        "2015-11-30    0.817849\n",
        "2015-12-31    1.333349\n",
        "dtype: float64"
       ]
      }
     ],
     "prompt_number": 93
    },
    {
     "cell_type": "markdown",
     "source": [
      "# Selection on index\n",
      "\n",
      "Note automatic conversion of string to Date."
     ]
    },
    {
     "cell_type": "code",
     "collapsed": false,
     "input": [
      "s[s.index > '2015-06']"
     ],
     "language": "python",
     "outputs": [
      {
       "output_type": "pyout",
       "prompt_number": 94,
       "text": [
        "2015-06-30   -1.879453\n",
        "2015-07-31    0.299821\n",
        "2015-08-31    1.014753\n",
        "2015-09-30    0.032649\n",
        "2015-10-31    0.813325\n",
        "2015-11-30    0.817849\n",
        "2015-12-31    1.333349\n",
        "Freq: M, dtype: float64"
       ]
      }
     ],
     "prompt_number": 94
    },
    {
     "cell_type": "heading",
     "level": 1,
     "source": [
      "Select by position"
     ]
    },
    {
     "cell_type": "markdown",
     "source": [
      "* Single value"
     ]
    },
    {
     "cell_type": "code",
     "collapsed": false,
     "input": [
      "s.ix[0]"
     ],
     "language": "python",
     "outputs": [
      {
       "output_type": "pyout",
       "prompt_number": 95,
       "text": [
        "0.34402031500180302"
       ]
      }
     ],
     "prompt_number": 95
    },
    {
     "cell_type": "markdown",
     "source": [
      "* List of values"
     ]
    },
    {
     "cell_type": "code",
     "collapsed": false,
     "input": [
      "s.ix[[0,5,10]]"
     ],
     "language": "python",
     "outputs": [
      {
       "output_type": "pyout",
       "prompt_number": 96,
       "text": [
        "2015-01-31    0.344020\n",
        "2015-06-30   -1.879453\n",
        "2015-11-30    0.817849\n",
        "dtype: float64"
       ]
      }
     ],
     "prompt_number": 96
    },
    {
     "cell_type": "heading",
     "level": 1,
     "source": [
      "Assignment on selecting"
     ]
    },
    {
     "cell_type": "markdown",
     "source": [
      "Can use selections for assignment. "
     ]
    },
    {
     "cell_type": "code",
     "collapsed": false,
     "input": [
      "s.ix[range(0,12,3)] = 1000\n",
      "s"
     ],
     "language": "python",
     "outputs": [
      {
       "output_type": "pyout",
       "prompt_number": 97,
       "text": [
        "2015-01-31    1000.000000\n",
        "2015-02-28      -2.312846\n",
        "2015-03-31      -1.461869\n",
        "2015-04-30    1000.000000\n",
        "2015-05-31      -0.153836\n",
        "2015-06-30      -1.879453\n",
        "2015-07-31    1000.000000\n",
        "2015-08-31       1.014753\n",
        "2015-09-30       0.032649\n",
        "2015-10-31    1000.000000\n",
        "2015-11-30       0.817849\n",
        "2015-12-31       1.333349\n",
        "Freq: M, dtype: float64"
       ]
      }
     ],
     "prompt_number": 97
    },
    {
     "cell_type": "heading",
     "level": 1,
     "source": [
      "Assign on query"
     ]
    },
    {
     "cell_type": "code",
     "collapsed": false,
     "input": [
      "s[s.index > '2015-06'] = np.nan ; s"
     ],
     "language": "python",
     "outputs": [
      {
       "output_type": "pyout",
       "prompt_number": 98,
       "text": [
        "2015-01-31    1000.000000\n",
        "2015-02-28      -2.312846\n",
        "2015-03-31      -1.461869\n",
        "2015-04-30    1000.000000\n",
        "2015-05-31      -0.153836\n",
        "2015-06-30            NaN\n",
        "2015-07-31            NaN\n",
        "2015-08-31            NaN\n",
        "2015-09-30            NaN\n",
        "2015-10-31            NaN\n",
        "2015-11-30            NaN\n",
        "2015-12-31            NaN\n",
        "Freq: M, dtype: float64"
       ]
      }
     ],
     "prompt_number": 98
    },
    {
     "cell_type": "heading",
     "level": 1,
     "source": [
      "Dropping the NaN's"
     ]
    },
    {
     "cell_type": "code",
     "collapsed": false,
     "input": [
      "s = s.dropna() ; s"
     ],
     "language": "python",
     "outputs": [
      {
       "output_type": "pyout",
       "prompt_number": 99,
       "text": [
        "2015-01-31    1000.000000\n",
        "2015-02-28      -2.312846\n",
        "2015-03-31      -1.461869\n",
        "2015-04-30    1000.000000\n",
        "2015-05-31      -0.153836\n",
        "Freq: M, dtype: float64"
       ]
      }
     ],
     "prompt_number": 99
    },
    {
     "cell_type": "heading",
     "level": 1,
     "source": [
      "Alignment on indexes"
     ]
    },
    {
     "cell_type": "code",
     "collapsed": false,
     "input": [
      "s1 = pd.Series([10,11,12],index=[1,2,4]); s2 = pd.Series([20,23,29],index=[1,3,4])\n",
      "s1"
     ],
     "language": "python",
     "outputs": [
      {
       "output_type": "pyout",
       "prompt_number": 100,
       "text": [
        "1    10\n",
        "2    11\n",
        "4    12\n",
        "dtype: int64"
       ]
      }
     ],
     "prompt_number": 100
    },
    {
     "cell_type": "code",
     "collapsed": false,
     "input": [
      "s2"
     ],
     "language": "python",
     "outputs": [
      {
       "output_type": "pyout",
       "prompt_number": 101,
       "text": [
        "1    20\n",
        "3    23\n",
        "4    29\n",
        "dtype: int64"
       ]
      }
     ],
     "prompt_number": 101
    },
    {
     "cell_type": "code",
     "collapsed": false,
     "input": [
      "s12 = s1+s2 ;s12"
     ],
     "language": "python",
     "outputs": [
      {
       "output_type": "pyout",
       "prompt_number": 102,
       "text": [
        "1    30\n",
        "2   NaN\n",
        "3   NaN\n",
        "4    41\n",
        "dtype: float64"
       ]
      }
     ],
     "prompt_number": 102
    },
    {
     "cell_type": "heading",
     "level": 1,
     "source": [
      "Dealing with missing data"
     ]
    },
    {
     "cell_type": "markdown",
     "source": [
      "* Dropping"
     ]
    },
    {
     "cell_type": "code",
     "collapsed": false,
     "input": [
      "s12.dropna()"
     ],
     "language": "python",
     "outputs": [
      {
       "output_type": "pyout",
       "prompt_number": 103,
       "text": [
        "1    30\n",
        "4    41\n",
        "dtype: float64"
       ]
      }
     ],
     "prompt_number": 103
    },
    {
     "cell_type": "markdown",
     "source": [
      "* Interpolating"
     ]
    },
    {
     "cell_type": "code",
     "collapsed": false,
     "input": [
      "s12.interpolate()"
     ],
     "language": "python",
     "outputs": [
      {
       "output_type": "pyout",
       "prompt_number": 104,
       "text": [
        "1    30.000000\n",
        "2    33.666667\n",
        "3    37.333333\n",
        "4    41.000000\n",
        "dtype: float64"
       ]
      }
     ],
     "prompt_number": 104
    },
    {
     "cell_type": "markdown",
     "source": [
      "* Reindexing - E.g. for comparing time series."
     ]
    },
    {
     "cell_type": "code",
     "collapsed": false,
     "input": [
      "s1.reindex(s2.index,method='ffill')+s2"
     ],
     "language": "python",
     "outputs": [
      {
       "output_type": "pyout",
       "prompt_number": 105,
       "text": [
        "1    30\n",
        "3    34\n",
        "4    41\n",
        "dtype: int64"
       ]
      }
     ],
     "prompt_number": 105
    },
    {
     "cell_type": "heading",
     "level": 1,
     "source": [
      "Datatypes - DataFrame"
     ]
    },
    {
     "cell_type": "markdown",
     "source": [
      "* A collection of series with a common index.\n",
      "* Can be thought of as a spread sheet with columns and rows.\n",
      "* Lots of ways of constructing a `DataFrame`"
     ]
    },
    {
     "cell_type": "heading",
     "level": 1,
     "source": [
      "Data frame construction from list of lists"
     ]
    },
    {
     "cell_type": "code",
     "collapsed": false,
     "input": [
      "df = pd.DataFrame([[1,2],[3,4],[5,6]], columns=['First','Second']); df\n"
     ],
     "language": "python",
     "outputs": [
      {
       "html": [
        "<div style=\"max-width:1500px;overflow:auto;\">\n",
        "<table border=\"1\" class=\"dataframe\">\n",
        "  <thead>\n",
        "    <tr style=\"text-align: right;\">\n",
        "      <th></th>\n",
        "      <th>First</th>\n",
        "      <th>Second</th>\n",
        "    </tr>\n",
        "  </thead>\n",
        "  <tbody>\n",
        "    <tr>\n",
        "      <th>0</th>\n",
        "      <td>1</td>\n",
        "      <td>2</td>\n",
        "    </tr>\n",
        "    <tr>\n",
        "      <th>1</th>\n",
        "      <td>3</td>\n",
        "      <td>4</td>\n",
        "    </tr>\n",
        "    <tr>\n",
        "      <th>2</th>\n",
        "      <td>5</td>\n",
        "      <td>6</td>\n",
        "    </tr>\n",
        "  </tbody>\n",
        "</table>\n",
        "</div>"
       ],
       "output_type": "pyout",
       "prompt_number": 106,
       "text": [
        "   First  Second\n",
        "0      1       2\n",
        "1      3       4\n",
        "2      5       6"
       ]
      }
     ],
     "prompt_number": 106
    },
    {
     "cell_type": "markdown",
     "source": [
      "(Note ipython table support!)"
     ]
    },
    {
     "cell_type": "heading",
     "level": 1,
     "source": [
      "DataFrame appending rows and columns."
     ]
    },
    {
     "cell_type": "code",
     "collapsed": false,
     "input": [
      "df = df.append(df.mean(), ignore_index=True) ; df"
     ],
     "language": "python",
     "outputs": [
      {
       "html": [
        "<div style=\"max-width:1500px;overflow:auto;\">\n",
        "<table border=\"1\" class=\"dataframe\">\n",
        "  <thead>\n",
        "    <tr style=\"text-align: right;\">\n",
        "      <th></th>\n",
        "      <th>First</th>\n",
        "      <th>Second</th>\n",
        "    </tr>\n",
        "  </thead>\n",
        "  <tbody>\n",
        "    <tr>\n",
        "      <th>0</th>\n",
        "      <td>1</td>\n",
        "      <td>2</td>\n",
        "    </tr>\n",
        "    <tr>\n",
        "      <th>1</th>\n",
        "      <td>3</td>\n",
        "      <td>4</td>\n",
        "    </tr>\n",
        "    <tr>\n",
        "      <th>2</th>\n",
        "      <td>5</td>\n",
        "      <td>6</td>\n",
        "    </tr>\n",
        "    <tr>\n",
        "      <th>3</th>\n",
        "      <td>3</td>\n",
        "      <td>4</td>\n",
        "    </tr>\n",
        "  </tbody>\n",
        "</table>\n",
        "</div>"
       ],
       "output_type": "pyout",
       "prompt_number": 107,
       "text": [
        "   First  Second\n",
        "0      1       2\n",
        "1      3       4\n",
        "2      5       6\n",
        "3      3       4"
       ]
      }
     ],
     "prompt_number": 107
    },
    {
     "cell_type": "markdown",
     "source": [
      "Add a third column"
     ]
    },
    {
     "cell_type": "code",
     "collapsed": false,
     "input": [
      "df['Third'] = df.First+df.Second ; df"
     ],
     "language": "python",
     "outputs": [
      {
       "html": [
        "<div style=\"max-width:1500px;overflow:auto;\">\n",
        "<table border=\"1\" class=\"dataframe\">\n",
        "  <thead>\n",
        "    <tr style=\"text-align: right;\">\n",
        "      <th></th>\n",
        "      <th>First</th>\n",
        "      <th>Second</th>\n",
        "      <th>Third</th>\n",
        "    </tr>\n",
        "  </thead>\n",
        "  <tbody>\n",
        "    <tr>\n",
        "      <th>0</th>\n",
        "      <td>1</td>\n",
        "      <td>2</td>\n",
        "      <td>3</td>\n",
        "    </tr>\n",
        "    <tr>\n",
        "      <th>1</th>\n",
        "      <td>3</td>\n",
        "      <td>4</td>\n",
        "      <td>7</td>\n",
        "    </tr>\n",
        "    <tr>\n",
        "      <th>2</th>\n",
        "      <td>5</td>\n",
        "      <td>6</td>\n",
        "      <td>11</td>\n",
        "    </tr>\n",
        "    <tr>\n",
        "      <th>3</th>\n",
        "      <td>3</td>\n",
        "      <td>4</td>\n",
        "      <td>7</td>\n",
        "    </tr>\n",
        "  </tbody>\n",
        "</table>\n",
        "</div>"
       ],
       "output_type": "pyout",
       "prompt_number": 108,
       "text": [
        "   First  Second  Third\n",
        "0      1       2      3\n",
        "1      3       4      7\n",
        "2      5       6     11\n",
        "3      3       4      7"
       ]
      }
     ],
     "prompt_number": 108
    },
    {
     "cell_type": "heading",
     "level": 1,
     "source": [
      "Descriptive statistics"
     ]
    },
    {
     "cell_type": "markdown",
     "source": [
      "* Same methods as on `Series` on all columns at once."
     ]
    },
    {
     "cell_type": "code",
     "collapsed": false,
     "input": [
      "df.describe()"
     ],
     "language": "python",
     "outputs": [
      {
       "html": [
        "<div style=\"max-width:1500px;overflow:auto;\">\n",
        "<table border=\"1\" class=\"dataframe\">\n",
        "  <thead>\n",
        "    <tr style=\"text-align: right;\">\n",
        "      <th></th>\n",
        "      <th>First</th>\n",
        "      <th>Second</th>\n",
        "      <th>Third</th>\n",
        "    </tr>\n",
        "  </thead>\n",
        "  <tbody>\n",
        "    <tr>\n",
        "      <th>count</th>\n",
        "      <td>4.000000</td>\n",
        "      <td>4.000000</td>\n",
        "      <td>4.000000</td>\n",
        "    </tr>\n",
        "    <tr>\n",
        "      <th>mean</th>\n",
        "      <td>3.000000</td>\n",
        "      <td>4.000000</td>\n",
        "      <td>7.000000</td>\n",
        "    </tr>\n",
        "    <tr>\n",
        "      <th>std</th>\n",
        "      <td>1.632993</td>\n",
        "      <td>1.632993</td>\n",
        "      <td>3.265986</td>\n",
        "    </tr>\n",
        "    <tr>\n",
        "      <th>min</th>\n",
        "      <td>1.000000</td>\n",
        "      <td>2.000000</td>\n",
        "      <td>3.000000</td>\n",
        "    </tr>\n",
        "    <tr>\n",
        "      <th>25%</th>\n",
        "      <td>2.500000</td>\n",
        "      <td>3.500000</td>\n",
        "      <td>6.000000</td>\n",
        "    </tr>\n",
        "    <tr>\n",
        "      <th>50%</th>\n",
        "      <td>3.000000</td>\n",
        "      <td>4.000000</td>\n",
        "      <td>7.000000</td>\n",
        "    </tr>\n",
        "    <tr>\n",
        "      <th>75%</th>\n",
        "      <td>3.500000</td>\n",
        "      <td>4.500000</td>\n",
        "      <td>8.000000</td>\n",
        "    </tr>\n",
        "    <tr>\n",
        "      <th>max</th>\n",
        "      <td>5.000000</td>\n",
        "      <td>6.000000</td>\n",
        "      <td>11.000000</td>\n",
        "    </tr>\n",
        "  </tbody>\n",
        "</table>\n",
        "</div>"
       ],
       "output_type": "pyout",
       "prompt_number": 109,
       "text": [
        "          First    Second      Third\n",
        "count  4.000000  4.000000   4.000000\n",
        "mean   3.000000  4.000000   7.000000\n",
        "std    1.632993  1.632993   3.265986\n",
        "min    1.000000  2.000000   3.000000\n",
        "25%    2.500000  3.500000   6.000000\n",
        "50%    3.000000  4.000000   7.000000\n",
        "75%    3.500000  4.500000   8.000000\n",
        "max    5.000000  6.000000  11.000000"
       ]
      }
     ],
     "prompt_number": 109
    },
    {
     "cell_type": "heading",
     "level": 1,
     "source": [
      "Columns or rows"
     ]
    },
    {
     "cell_type": "markdown",
     "source": [
      "* Most functions work on either columns or rows"
     ]
    },
    {
     "cell_type": "code",
     "collapsed": false,
     "input": [
      "df.sum()"
     ],
     "language": "python",
     "outputs": [
      {
       "output_type": "pyout",
       "prompt_number": 110,
       "text": [
        "First     12\n",
        "Second    16\n",
        "Third     28\n",
        "dtype: float64"
       ]
      }
     ],
     "prompt_number": 110
    },
    {
     "cell_type": "code",
     "collapsed": false,
     "input": [
      "df.sum(axis=1)"
     ],
     "language": "python",
     "outputs": [
      {
       "output_type": "pyout",
       "prompt_number": 111,
       "text": [
        "0     6\n",
        "1    14\n",
        "2    22\n",
        "3    14\n",
        "dtype: float64"
       ]
      }
     ],
     "prompt_number": 111
    },
    {
     "cell_type": "heading",
     "level": 1,
     "source": [
      "DataFrames - load from file"
     ]
    },
    {
     "cell_type": "markdown",
     "source": [
      "* Lots of import formats:\n",
      "  * csv, fixed column, excel, HDF5\n",
      "  * From SQL queries\n",
      "  * CSV reader highly optimized (much faster than numpy)\n",
      "* We'll use the train data from the Keggle competition Titanic"
     ]
    },
    {
     "cell_type": "code",
     "collapsed": false,
     "input": [
      "!wc titanic-train.csv ; head -5 titanic-train.csv"
     ],
     "language": "python",
     "outputs": [
      {
       "output_type": "stream",
       "stream": "stdout",
       "text": [
        "  892  3900 60302 titanic-train.csv\r\n",
        "PassengerId,Survived,Pclass,Name,Sex,Age,SibSp,Parch,Ticket,Fare,Cabin,Embarked\r\n",
        "1,0,3,\"Braund, Mr. Owen Harris\",male,22,1,0,A/5 21171,7.25,,S\r\n",
        "2,1,1,\"Cumings, Mrs. John Bradley (Florence Briggs Thayer)\",female,38,1,0,PC 17599,71.2833,C85,C\r\n",
        "3,1,3,\"Heikkinen, Miss. Laina\",female,26,0,0,STON/O2. 3101282,7.925,,S\r\n",
        "4,1,1,\"Futrelle, Mrs. Jacques Heath (Lily May Peel)\",female,35,1,0,113803,53.1,C123,S\r\n"
       ]
      }
     ],
     "prompt_number": 112
    },
    {
     "cell_type": "heading",
     "level": 1,
     "source": [
      "Load DataFrame from csv"
     ]
    },
    {
     "cell_type": "code",
     "collapsed": false,
     "input": [
      "df = pd.read_csv('titanic-train.csv',index_col=[0])\n",
      "df.head()"
     ],
     "language": "python",
     "outputs": [
      {
       "html": [
        "<div style=\"max-width:1500px;overflow:auto;\">\n",
        "<table border=\"1\" class=\"dataframe\">\n",
        "  <thead>\n",
        "    <tr style=\"text-align: right;\">\n",
        "      <th></th>\n",
        "      <th>Survived</th>\n",
        "      <th>Pclass</th>\n",
        "      <th>Name</th>\n",
        "      <th>Sex</th>\n",
        "      <th>Age</th>\n",
        "      <th>SibSp</th>\n",
        "      <th>Parch</th>\n",
        "      <th>Ticket</th>\n",
        "      <th>Fare</th>\n",
        "      <th>Cabin</th>\n",
        "      <th>Embarked</th>\n",
        "    </tr>\n",
        "    <tr>\n",
        "      <th>PassengerId</th>\n",
        "      <th></th>\n",
        "      <th></th>\n",
        "      <th></th>\n",
        "      <th></th>\n",
        "      <th></th>\n",
        "      <th></th>\n",
        "      <th></th>\n",
        "      <th></th>\n",
        "      <th></th>\n",
        "      <th></th>\n",
        "      <th></th>\n",
        "    </tr>\n",
        "  </thead>\n",
        "  <tbody>\n",
        "    <tr>\n",
        "      <th>1</th>\n",
        "      <td>0</td>\n",
        "      <td>3</td>\n",
        "      <td>Braund, Mr. Owen Harris</td>\n",
        "      <td>male</td>\n",
        "      <td>22</td>\n",
        "      <td>1</td>\n",
        "      <td>0</td>\n",
        "      <td>A/5 21171</td>\n",
        "      <td>7.2500</td>\n",
        "      <td>NaN</td>\n",
        "      <td>S</td>\n",
        "    </tr>\n",
        "    <tr>\n",
        "      <th>2</th>\n",
        "      <td>1</td>\n",
        "      <td>1</td>\n",
        "      <td>Cumings, Mrs. John Bradley (Florence Briggs Th...</td>\n",
        "      <td>female</td>\n",
        "      <td>38</td>\n",
        "      <td>1</td>\n",
        "      <td>0</td>\n",
        "      <td>PC 17599</td>\n",
        "      <td>71.2833</td>\n",
        "      <td>C85</td>\n",
        "      <td>C</td>\n",
        "    </tr>\n",
        "    <tr>\n",
        "      <th>3</th>\n",
        "      <td>1</td>\n",
        "      <td>3</td>\n",
        "      <td>Heikkinen, Miss. Laina</td>\n",
        "      <td>female</td>\n",
        "      <td>26</td>\n",
        "      <td>0</td>\n",
        "      <td>0</td>\n",
        "      <td>STON/O2. 3101282</td>\n",
        "      <td>7.9250</td>\n",
        "      <td>NaN</td>\n",
        "      <td>S</td>\n",
        "    </tr>\n",
        "    <tr>\n",
        "      <th>4</th>\n",
        "      <td>1</td>\n",
        "      <td>1</td>\n",
        "      <td>Futrelle, Mrs. Jacques Heath (Lily May Peel)</td>\n",
        "      <td>female</td>\n",
        "      <td>35</td>\n",
        "      <td>1</td>\n",
        "      <td>0</td>\n",
        "      <td>113803</td>\n",
        "      <td>53.1000</td>\n",
        "      <td>C123</td>\n",
        "      <td>S</td>\n",
        "    </tr>\n",
        "    <tr>\n",
        "      <th>5</th>\n",
        "      <td>0</td>\n",
        "      <td>3</td>\n",
        "      <td>Allen, Mr. William Henry</td>\n",
        "      <td>male</td>\n",
        "      <td>35</td>\n",
        "      <td>0</td>\n",
        "      <td>0</td>\n",
        "      <td>373450</td>\n",
        "      <td>8.0500</td>\n",
        "      <td>NaN</td>\n",
        "      <td>S</td>\n",
        "    </tr>\n",
        "  </tbody>\n",
        "</table>\n",
        "</div>"
       ],
       "output_type": "pyout",
       "prompt_number": 113,
       "text": [
        "             Survived  Pclass  \\\n",
        "PassengerId                     \n",
        "1                   0       3   \n",
        "2                   1       1   \n",
        "3                   1       3   \n",
        "4                   1       1   \n",
        "5                   0       3   \n",
        "\n",
        "                                                          Name     Sex  Age  \\\n",
        "PassengerId                                                                   \n",
        "1                                      Braund, Mr. Owen Harris    male   22   \n",
        "2            Cumings, Mrs. John Bradley (Florence Briggs Th...  female   38   \n",
        "3                                       Heikkinen, Miss. Laina  female   26   \n",
        "4                 Futrelle, Mrs. Jacques Heath (Lily May Peel)  female   35   \n",
        "5                                     Allen, Mr. William Henry    male   35   \n",
        "\n",
        "             SibSp  Parch            Ticket     Fare Cabin Embarked  \n",
        "PassengerId                                                          \n",
        "1                1      0         A/5 21171   7.2500   NaN        S  \n",
        "2                1      0          PC 17599  71.2833   C85        C  \n",
        "3                0      0  STON/O2. 3101282   7.9250   NaN        S  \n",
        "4                1      0            113803  53.1000  C123        S  \n",
        "5                0      0            373450   8.0500   NaN        S  "
       ]
      }
     ],
     "prompt_number": 113
    },
    {
     "cell_type": "heading",
     "level": 1,
     "source": [
      "Selecting columns "
     ]
    },
    {
     "cell_type": "code",
     "collapsed": false,
     "input": [
      "df['Name'].head()"
     ],
     "language": "python",
     "outputs": [
      {
       "output_type": "pyout",
       "prompt_number": 114,
       "text": [
        "PassengerId\n",
        "1                              Braund, Mr. Owen Harris\n",
        "2    Cumings, Mrs. John Bradley (Florence Briggs Th...\n",
        "3                               Heikkinen, Miss. Laina\n",
        "4         Futrelle, Mrs. Jacques Heath (Lily May Peel)\n",
        "5                             Allen, Mr. William Henry\n",
        "Name: Name, dtype: object"
       ]
      }
     ],
     "prompt_number": 114
    },
    {
     "cell_type": "heading",
     "level": 1,
     "source": [
      "Selecting columns as attribute"
     ]
    },
    {
     "cell_type": "markdown",
     "source": [
      "* Syntactic sugar"
     ]
    },
    {
     "cell_type": "code",
     "collapsed": false,
     "input": [
      "df.Name.tail(5)"
     ],
     "language": "python",
     "outputs": [
      {
       "output_type": "pyout",
       "prompt_number": 115,
       "text": [
        "PassengerId\n",
        "887                       Montvila, Rev. Juozas\n",
        "888                Graham, Miss. Margaret Edith\n",
        "889    Johnston, Miss. Catherine Helen \"Carrie\"\n",
        "890                       Behr, Mr. Karl Howell\n",
        "891                         Dooley, Mr. Patrick\n",
        "Name: Name, dtype: object"
       ]
      }
     ],
     "prompt_number": 115
    },
    {
     "cell_type": "heading",
     "level": 1,
     "source": [
      "Exploring the data"
     ]
    },
    {
     "cell_type": "markdown",
     "source": [
      "`value_counts` generates a numeric histogram."
     ]
    },
    {
     "cell_type": "code",
     "collapsed": false,
     "input": [
      "sex_count = df.Sex.value_counts() ; sex_count"
     ],
     "language": "python",
     "outputs": [
      {
       "output_type": "pyout",
       "prompt_number": 116,
       "text": [
        "male      577\n",
        "female    314\n",
        "dtype: int64"
       ]
      }
     ],
     "prompt_number": 116
    },
    {
     "cell_type": "heading",
     "level": 1,
     "source": [
      "Graphically exploring the data"
     ]
    },
    {
     "cell_type": "code",
     "collapsed": false,
     "input": [
      "sex_count.plot(kind='bar', color=['blue','pink'])\n"
     ],
     "language": "python",
     "outputs": [
      {
       "output_type": "pyout",
       "prompt_number": 117,
       "text": [
        "<matplotlib.axes._subplots.AxesSubplot at 0x7f963e45eb50>"
       ]
      },
      {
       "output_type": "display_data",
       "png": "[encoded data removed]",
       "text": [
        "<matplotlib.figure.Figure at 0x7f963e45eed0>"
       ]
      }
     ],
     "prompt_number": 117
    },
    {
     "cell_type": "heading",
     "level": 1,
     "source": [
      "DataFrame construction from two series"
     ]
    },
    {
     "cell_type": "code",
     "collapsed": false,
     "input": [
      "sex_survived = df[df.Survived==1].Sex.value_counts()\n",
      "\n",
      "df_surv = pd.DataFrame({'Survived' : sex_survived,\n",
      "                        'Total' : sex_count})\n",
      "df_surv"
     ],
     "language": "python",
     "outputs": [
      {
       "html": [
        "<div style=\"max-width:1500px;overflow:auto;\">\n",
        "<table border=\"1\" class=\"dataframe\">\n",
        "  <thead>\n",
        "    <tr style=\"text-align: right;\">\n",
        "      <th></th>\n",
        "      <th>Survived</th>\n",
        "      <th>Total</th>\n",
        "    </tr>\n",
        "  </thead>\n",
        "  <tbody>\n",
        "    <tr>\n",
        "      <th>female</th>\n",
        "      <td>233</td>\n",
        "      <td>314</td>\n",
        "    </tr>\n",
        "    <tr>\n",
        "      <th>male</th>\n",
        "      <td>109</td>\n",
        "      <td>577</td>\n",
        "    </tr>\n",
        "  </tbody>\n",
        "</table>\n",
        "</div>"
       ],
       "output_type": "pyout",
       "prompt_number": 118,
       "text": [
        "        Survived  Total\n",
        "female       233    314\n",
        "male         109    577"
       ]
      }
     ],
     "prompt_number": 118
    },
    {
     "cell_type": "heading",
     "level": 1,
     "source": [
      "Plot it"
     ]
    },
    {
     "cell_type": "code",
     "collapsed": false,
     "input": [
      "df_surv.plot(kind='bar')"
     ],
     "language": "python",
     "outputs": [
      {
       "output_type": "pyout",
       "prompt_number": 119,
       "text": [
        "<matplotlib.axes._subplots.AxesSubplot at 0x7f963e470f50>"
       ]
      },
      {
       "output_type": "display_data",
       "png": "[encoded data removed]",
       "text": [
        "<matplotlib.figure.Figure at 0x7f963e474f50>"
       ]
      }
     ],
     "prompt_number": 119
    },
    {
     "cell_type": "heading",
     "level": 1,
     "source": [
      "Fancy plotting"
     ]
    },
    {
     "cell_type": "markdown",
     "source": [
      "* Lots of fancy plotting options through matplotlib, yhat/ggplot, SeaBorn, Vincent\n",
      "* Default is matplotlib."
     ]
    },
    {
     "cell_type": "code",
     "collapsed": false,
     "input": [
      "df_surv['Died'] = df_surv.Total - df_surv.Survived\n",
      "axes = df_surv[['Survived','Died']].T.plot(kind='pie', subplots=True, colors=['green','red'])\n",
      "for ax in axes:\n",
      "  ax.set_aspect('equal')"
     ],
     "language": "python",
     "outputs": [
      {
       "output_type": "display_data",
       "png": "[encoded data removed]",
       "text": [
        "<matplotlib.figure.Figure at 0x7f963e08c1d0>"
       ]
      }
     ],
     "prompt_number": 120
    },
    {
     "cell_type": "heading",
     "level": 1,
     "source": [
      "Groupby: split-apply-combine"
     ]
    },
    {
     "cell_type": "markdown",
     "source": [
      "* Allows splitting on certain column and generates `GroupBy` groups.\n",
      "* Applying a function to each group.\n",
      "* Combining.\n",
      "* Aggregation, e.g. sum or means : Series \u2192 scalar\n",
      "* Transformation, e.g. replace NA's : Series \u2192 Series\n",
      "* Filtration : Series \u2192 boolean"
     ]
    },
    {
     "cell_type": "code",
     "collapsed": false,
     "input": [
      "# Source: Gratuitously borrowed from Hadley Wickham's Data Science in R slides\n",
      "Image('groupby.png')"
     ],
     "language": "python",
     "outputs": [
      {
       "output_type": "pyout",
       "png": "[encoded data removed]",
       "prompt_number": 121,
       "text": [
        "<IPython.core.display.Image at 0x7f963e0a21d0>"
       ]
      }
     ],
     "prompt_number": 121
    },
    {
     "cell_type": "heading",
     "level": 1,
     "source": [
      "Titanic data with groupby"
     ]
    },
    {
     "cell_type": "code",
     "collapsed": false,
     "input": [
      "# Get a groupby object grouped by the passanger sex\n",
      "dfg = df.groupby(['Sex'])\n",
      "print type(dfg)"
     ],
     "language": "python",
     "outputs": [
      {
       "output_type": "stream",
       "stream": "stdout",
       "text": [
        "<class 'pandas.core.groupby.DataFrameGroupBy'>\n"
       ]
      }
     ],
     "prompt_number": 122
    },
    {
     "cell_type": "code",
     "collapsed": false,
     "input": [
      "dfg.groups.keys()"
     ],
     "language": "python",
     "outputs": [
      {
       "output_type": "pyout",
       "prompt_number": 123,
       "text": [
        "['male', 'female']"
       ]
      }
     ],
     "prompt_number": 123
    },
    {
     "cell_type": "code",
     "collapsed": false,
     "input": [
      "surv = dfg.Survived\n",
      "print type(surv)"
     ],
     "language": "python",
     "outputs": [
      {
       "output_type": "stream",
       "stream": "stdout",
       "text": [
        "<class 'pandas.core.groupby.SeriesGroupBy'>\n"
       ]
      }
     ],
     "prompt_number": 124
    },
    {
     "cell_type": "heading",
     "level": 1,
     "source": [
      "Operations on groupby objects"
     ]
    },
    {
     "cell_type": "code",
     "collapsed": false,
     "input": [
      "surv.sum()"
     ],
     "language": "python",
     "outputs": [
      {
       "output_type": "pyout",
       "prompt_number": 125,
       "text": [
        "Sex\n",
        "female    233\n",
        "male      109\n",
        "Name: Survived, dtype: int64"
       ]
      }
     ],
     "prompt_number": 125
    },
    {
     "cell_type": "code",
     "collapsed": false,
     "input": [
      "survival_ratio = surv.sum()/surv.size()\n",
      "survival_ratio "
     ],
     "language": "python",
     "outputs": [
      {
       "output_type": "pyout",
       "prompt_number": 126,
       "text": [
        "Sex\n",
        "female    0.742038\n",
        "male      0.188908\n",
        "dtype: float64"
       ]
      }
     ],
     "prompt_number": 126
    },
    {
     "cell_type": "heading",
     "level": 1,
     "source": [
      "GroupBy by more than one column"
     ]
    },
    {
     "cell_type": "code",
     "collapsed": false,
     "input": [
      "gb = df.groupby(['Sex','Pclass'])['Survived']\n",
      "surv_ratio = gb.sum()/gb.count()\n",
      "surv_ratio"
     ],
     "language": "python",
     "outputs": [
      {
       "output_type": "pyout",
       "prompt_number": 127,
       "text": [
        "Sex     Pclass\n",
        "female  1         0.968085\n",
        "        2         0.921053\n",
        "        3         0.500000\n",
        "male    1         0.368852\n",
        "        2         0.157407\n",
        "        3         0.135447\n",
        "Name: Survived, dtype: float64"
       ]
      }
     ],
     "prompt_number": 127
    },
    {
     "cell_type": "heading",
     "level": 1,
     "source": [
      "GroupBy apply function"
     ]
    },
    {
     "cell_type": "markdown",
     "source": [
      "`sum()` uses fact that `Survived` is either 0 or 1.\n",
      "\n",
      "If surv were not binary (implied by sum) we can use the apply function and selection.\n"
     ]
    },
    {
     "cell_type": "code",
     "collapsed": false,
     "input": [
      "gb.apply(lambda serv : 1.0*serv[serv==1].count()/serv.count())"
     ],
     "language": "python",
     "outputs": [
      {
       "output_type": "pyout",
       "prompt_number": 128,
       "text": [
        "Sex     Pclass\n",
        "female  1         0.968085\n",
        "        2         0.921053\n",
        "        3         0.500000\n",
        "male    1         0.368852\n",
        "        2         0.157407\n",
        "        3         0.135447\n",
        "Name: Survived, dtype: float64"
       ]
      }
     ],
     "prompt_number": 128
    },
    {
     "cell_type": "heading",
     "level": 1,
     "source": [
      "Moving indices between different axes"
     ]
    },
    {
     "cell_type": "markdown",
     "source": [
      "* The `unstack` method allows ``moving`` an index level to the other axis\n",
      "* Nice for preparing for plotting"
     ]
    },
    {
     "cell_type": "code",
     "collapsed": false,
     "input": [
      "surv_ratio = surv_ratio.unstack(level=-1)\n",
      "surv_ratio"
     ],
     "language": "python",
     "outputs": [
      {
       "html": [
        "<div style=\"max-width:1500px;overflow:auto;\">\n",
        "<table border=\"1\" class=\"dataframe\">\n",
        "  <thead>\n",
        "    <tr style=\"text-align: right;\">\n",
        "      <th>Pclass</th>\n",
        "      <th>1</th>\n",
        "      <th>2</th>\n",
        "      <th>3</th>\n",
        "    </tr>\n",
        "    <tr>\n",
        "      <th>Sex</th>\n",
        "      <th></th>\n",
        "      <th></th>\n",
        "      <th></th>\n",
        "    </tr>\n",
        "  </thead>\n",
        "  <tbody>\n",
        "    <tr>\n",
        "      <th>female</th>\n",
        "      <td>0.968085</td>\n",
        "      <td>0.921053</td>\n",
        "      <td>0.500000</td>\n",
        "    </tr>\n",
        "    <tr>\n",
        "      <th>male</th>\n",
        "      <td>0.368852</td>\n",
        "      <td>0.157407</td>\n",
        "      <td>0.135447</td>\n",
        "    </tr>\n",
        "  </tbody>\n",
        "</table>\n",
        "</div>"
       ],
       "output_type": "pyout",
       "prompt_number": 129,
       "text": [
        "Pclass         1         2         3\n",
        "Sex                                 \n",
        "female  0.968085  0.921053  0.500000\n",
        "male    0.368852  0.157407  0.135447"
       ]
      }
     ],
     "prompt_number": 129
    },
    {
     "cell_type": "code",
     "collapsed": false,
     "input": [
      "surv_ratio.plot(kind='bar')"
     ],
     "language": "python",
     "outputs": [
      {
       "output_type": "pyout",
       "prompt_number": 130,
       "text": [
        "<matplotlib.axes._subplots.AxesSubplot at 0x7f963df50e10>"
       ]
      },
      {
       "output_type": "display_data",
       "png": "[encoded data removed]",
       "text": [
        "<matplotlib.figure.Figure at 0x7f963e0a2910>"
       ]
      }
     ],
     "prompt_number": 130
    },
    {
     "cell_type": "heading",
     "level": 1,
     "source": [
      "More about indices 1"
     ]
    },
    {
     "cell_type": "markdown",
     "source": [
      "* Both `columns` and `index` are indexes\n",
      "* Both may be `MultiLevelIndex`\n",
      "* Great for reorganizing data through `groupby`, `unstack()`, `pivot` etc.\n",
      "* May sort on an index, value, or column\n",
      "* Accessing by index may be faster than querying (but often it doesn't matter)"
     ]
    },
    {
     "cell_type": "code",
     "collapsed": false,
     "input": [
      "df = (pd.read_csv('titanic-train.csv',skipinitialspace=1)\n",
      "      [['Survived','Sex','Pclass','Fare']])\n",
      "df.head()\n"
     ],
     "language": "python",
     "outputs": [
      {
       "html": [
        "<div style=\"max-width:1500px;overflow:auto;\">\n",
        "<table border=\"1\" class=\"dataframe\">\n",
        "  <thead>\n",
        "    <tr style=\"text-align: right;\">\n",
        "      <th></th>\n",
        "      <th>Survived</th>\n",
        "      <th>Sex</th>\n",
        "      <th>Pclass</th>\n",
        "      <th>Fare</th>\n",
        "    </tr>\n",
        "  </thead>\n",
        "  <tbody>\n",
        "    <tr>\n",
        "      <th>0</th>\n",
        "      <td>0</td>\n",
        "      <td>male</td>\n",
        "      <td>3</td>\n",
        "      <td>7.2500</td>\n",
        "    </tr>\n",
        "    <tr>\n",
        "      <th>1</th>\n",
        "      <td>1</td>\n",
        "      <td>female</td>\n",
        "      <td>1</td>\n",
        "      <td>71.2833</td>\n",
        "    </tr>\n",
        "    <tr>\n",
        "      <th>2</th>\n",
        "      <td>1</td>\n",
        "      <td>female</td>\n",
        "      <td>3</td>\n",
        "      <td>7.9250</td>\n",
        "    </tr>\n",
        "    <tr>\n",
        "      <th>3</th>\n",
        "      <td>1</td>\n",
        "      <td>female</td>\n",
        "      <td>1</td>\n",
        "      <td>53.1000</td>\n",
        "    </tr>\n",
        "    <tr>\n",
        "      <th>4</th>\n",
        "      <td>0</td>\n",
        "      <td>male</td>\n",
        "      <td>3</td>\n",
        "      <td>8.0500</td>\n",
        "    </tr>\n",
        "  </tbody>\n",
        "</table>\n",
        "</div>"
       ],
       "output_type": "pyout",
       "prompt_number": 131,
       "text": [
        "   Survived     Sex  Pclass     Fare\n",
        "0         0    male       3   7.2500\n",
        "1         1  female       1  71.2833\n",
        "2         1  female       3   7.9250\n",
        "3         1  female       1  53.1000\n",
        "4         0    male       3   8.0500"
       ]
      }
     ],
     "prompt_number": 131
    },
    {
     "cell_type": "heading",
     "level": 1,
     "source": [
      "More about indices 2"
     ]
    },
    {
     "cell_type": "code",
     "collapsed": false,
     "input": [
      "df.columns"
     ],
     "language": "python",
     "outputs": [
      {
       "output_type": "pyout",
       "prompt_number": 132,
       "text": [
        "Index([u'Survived', u'Sex', u'Pclass', u'Fare'], dtype='object')"
       ]
      }
     ],
     "prompt_number": 132
    },
    {
     "cell_type": "code",
     "collapsed": false,
     "input": [
      "df.index"
     ],
     "language": "python",
     "outputs": [
      {
       "output_type": "pyout",
       "prompt_number": 133,
       "text": [
        "Int64Index([  0,   1,   2,   3,   4,   5,   6,   7,   8,   9, \n",
        "            ...\n",
        "            881, 882, 883, 884, 885, 886, 887, 888, 889, 890],\n",
        "           dtype='int64', length=891)"
       ]
      }
     ],
     "prompt_number": 133
    },
    {
     "cell_type": "heading",
     "level": 1,
     "source": [
      "More about indices 3"
     ]
    },
    {
     "cell_type": "code",
     "collapsed": false,
     "input": [
      "dfsp = df.set_index(['Sex','Pclass'])\n",
      "dfsp.head()\n"
     ],
     "language": "python",
     "outputs": [
      {
       "html": [
        "<div style=\"max-width:1500px;overflow:auto;\">\n",
        "<table border=\"1\" class=\"dataframe\">\n",
        "  <thead>\n",
        "    <tr style=\"text-align: right;\">\n",
        "      <th></th>\n",
        "      <th></th>\n",
        "      <th>Survived</th>\n",
        "      <th>Fare</th>\n",
        "    </tr>\n",
        "    <tr>\n",
        "      <th>Sex</th>\n",
        "      <th>Pclass</th>\n",
        "      <th></th>\n",
        "      <th></th>\n",
        "    </tr>\n",
        "  </thead>\n",
        "  <tbody>\n",
        "    <tr>\n",
        "      <th>male</th>\n",
        "      <th>3</th>\n",
        "      <td>0</td>\n",
        "      <td>7.2500</td>\n",
        "    </tr>\n",
        "    <tr>\n",
        "      <th rowspan=\"3\" valign=\"top\">female</th>\n",
        "      <th>1</th>\n",
        "      <td>1</td>\n",
        "      <td>71.2833</td>\n",
        "    </tr>\n",
        "    <tr>\n",
        "      <th>3</th>\n",
        "      <td>1</td>\n",
        "      <td>7.9250</td>\n",
        "    </tr>\n",
        "    <tr>\n",
        "      <th>1</th>\n",
        "      <td>1</td>\n",
        "      <td>53.1000</td>\n",
        "    </tr>\n",
        "    <tr>\n",
        "      <th>male</th>\n",
        "      <th>3</th>\n",
        "      <td>0</td>\n",
        "      <td>8.0500</td>\n",
        "    </tr>\n",
        "  </tbody>\n",
        "</table>\n",
        "</div>"
       ],
       "output_type": "pyout",
       "prompt_number": 134,
       "text": [
        "               Survived     Fare\n",
        "Sex    Pclass                   \n",
        "male   3              0   7.2500\n",
        "female 1              1  71.2833\n",
        "       3              1   7.9250\n",
        "       1              1  53.1000\n",
        "male   3              0   8.0500"
       ]
      }
     ],
     "prompt_number": 134
    },
    {
     "cell_type": "code",
     "collapsed": false,
     "input": [
      "type(dfsp.index)"
     ],
     "language": "python",
     "outputs": [
      {
       "output_type": "pyout",
       "prompt_number": 135,
       "text": [
        "pandas.core.index.MultiIndex"
       ]
      }
     ],
     "prompt_number": 135
    },
    {
     "cell_type": "heading",
     "level": 1,
     "source": [
      "More about indices 4"
     ]
    },
    {
     "cell_type": "code",
     "collapsed": false,
     "input": [
      "dfsp.index = dfsp.index.swaplevel('Sex','Pclass')\n",
      "dfsp.head()\n"
     ],
     "language": "python",
     "outputs": [
      {
       "html": [
        "<div style=\"max-width:1500px;overflow:auto;\">\n",
        "<table border=\"1\" class=\"dataframe\">\n",
        "  <thead>\n",
        "    <tr style=\"text-align: right;\">\n",
        "      <th></th>\n",
        "      <th></th>\n",
        "      <th>Survived</th>\n",
        "      <th>Fare</th>\n",
        "    </tr>\n",
        "    <tr>\n",
        "      <th>Pclass</th>\n",
        "      <th>Sex</th>\n",
        "      <th></th>\n",
        "      <th></th>\n",
        "    </tr>\n",
        "  </thead>\n",
        "  <tbody>\n",
        "    <tr>\n",
        "      <th>3</th>\n",
        "      <th>male</th>\n",
        "      <td>0</td>\n",
        "      <td>7.2500</td>\n",
        "    </tr>\n",
        "    <tr>\n",
        "      <th>1</th>\n",
        "      <th>female</th>\n",
        "      <td>1</td>\n",
        "      <td>71.2833</td>\n",
        "    </tr>\n",
        "    <tr>\n",
        "      <th>3</th>\n",
        "      <th>female</th>\n",
        "      <td>1</td>\n",
        "      <td>7.9250</td>\n",
        "    </tr>\n",
        "    <tr>\n",
        "      <th>1</th>\n",
        "      <th>female</th>\n",
        "      <td>1</td>\n",
        "      <td>53.1000</td>\n",
        "    </tr>\n",
        "    <tr>\n",
        "      <th>3</th>\n",
        "      <th>male</th>\n",
        "      <td>0</td>\n",
        "      <td>8.0500</td>\n",
        "    </tr>\n",
        "  </tbody>\n",
        "</table>\n",
        "</div>"
       ],
       "output_type": "pyout",
       "prompt_number": 136,
       "text": [
        "               Survived     Fare\n",
        "Pclass Sex                      \n",
        "3      male           0   7.2500\n",
        "1      female         1  71.2833\n",
        "3      female         1   7.9250\n",
        "1      female         1  53.1000\n",
        "3      male           0   8.0500"
       ]
      }
     ],
     "prompt_number": 136
    },
    {
     "cell_type": "code",
     "collapsed": false,
     "input": [
      "dfsp.sort_index().head()\n"
     ],
     "language": "python",
     "outputs": [
      {
       "html": [
        "<div style=\"max-width:1500px;overflow:auto;\">\n",
        "<table border=\"1\" class=\"dataframe\">\n",
        "  <thead>\n",
        "    <tr style=\"text-align: right;\">\n",
        "      <th></th>\n",
        "      <th></th>\n",
        "      <th>Survived</th>\n",
        "      <th>Fare</th>\n",
        "    </tr>\n",
        "    <tr>\n",
        "      <th>Pclass</th>\n",
        "      <th>Sex</th>\n",
        "      <th></th>\n",
        "      <th></th>\n",
        "    </tr>\n",
        "  </thead>\n",
        "  <tbody>\n",
        "    <tr>\n",
        "      <th rowspan=\"5\" valign=\"top\">1</th>\n",
        "      <th>female</th>\n",
        "      <td>1</td>\n",
        "      <td>71.2833</td>\n",
        "    </tr>\n",
        "    <tr>\n",
        "      <th>female</th>\n",
        "      <td>1</td>\n",
        "      <td>53.1000</td>\n",
        "    </tr>\n",
        "    <tr>\n",
        "      <th>female</th>\n",
        "      <td>1</td>\n",
        "      <td>26.5500</td>\n",
        "    </tr>\n",
        "    <tr>\n",
        "      <th>female</th>\n",
        "      <td>1</td>\n",
        "      <td>146.5208</td>\n",
        "    </tr>\n",
        "    <tr>\n",
        "      <th>female</th>\n",
        "      <td>1</td>\n",
        "      <td>76.7292</td>\n",
        "    </tr>\n",
        "  </tbody>\n",
        "</table>\n",
        "</div>"
       ],
       "output_type": "pyout",
       "prompt_number": 137,
       "text": [
        "               Survived      Fare\n",
        "Pclass Sex                       \n",
        "1      female         1   71.2833\n",
        "       female         1   53.1000\n",
        "       female         1   26.5500\n",
        "       female         1  146.5208\n",
        "       female         1   76.7292"
       ]
      }
     ],
     "prompt_number": 137
    },
    {
     "cell_type": "heading",
     "level": 1,
     "source": [
      "Predictor for Kaggle"
     ]
    },
    {
     "cell_type": "markdown",
     "source": [
      "* Kaggle is a web site with machine learning competitions.\n",
      "* Create a predictor based on average of the three features:\n",
      "  - Sex (male or female)\n",
      "  - Class (1st, 2nd, or 3rd)\n",
      "  - BinFare (Cheap, Medium, or Expensive ticket)\n",
      "* The corresponding Kaggle example python program was much longer (140 lines) with multiple loops.\n",
      "* Identical output"
     ]
    },
    {
     "cell_type": "heading",
     "level": 1,
     "source": [
      "The complete predictor"
     ]
    },
    {
     "cell_type": "code",
     "collapsed": false,
     "input": [
      "fare_ceiling = 40\n",
      "fare_bracket_size = 10\n",
      "number_of_fares = fare_ceiling // fare_bracket_size\n",
      "\n",
      "def ReadTitanicCsv(filename):\n",
      "  \"\"\"Read the data and add a new column BinFare\"\"\"\n",
      "  frame = pd.read_csv(filename,skipinitialspace=1)\n",
      "\n",
      "  # Add the BinFare column\n",
      "  frame['BinFare'] = ((frame.Fare//fare_bracket_size)\n",
      "                      .clip_upper(number_of_fares-1)\n",
      "                      # Use class as substitute if no fare was given\n",
      "                      .fillna(3-frame.Pclass))\n",
      "  return frame\n",
      "\n",
      "data = ReadTitanicCsv('train.csv')\n",
      "survival_table = (data.groupby(['Sex','Pclass','BinFare'])\n",
      "                  # Extract survival column and take mean value.\n",
      "                  ['Survived'].mean()\n",
      "                  # Survive if more than half the people survived.\n",
      "                  > 0.5).astype(int)\n",
      "\n",
      "# Read the test file and apply the survival lookup table\n",
      "(ReadTitanicCsv('test.csv')\n",
      " .set_index(['Sex','Pclass','BinFare'])    # Prepare for lookup in survival table\n",
      " .assign(Survived=survival_table)          # Look up the survival table\n",
      " .fillna(0)                                # Missed lookup are filled with 0 (died)\n",
      " [['PassengerId','Survived']]              # Pick columns\n",
      " .to_csv('prediction.csv',index=False))    # Write these to output file"
     ],
     "language": "python",
     "outputs": [],
     "prompt_number": 164
    },
    {
     "cell_type": "heading",
     "level": 1,
     "source": [
      "Israeli air polution"
     ]
    },
    {
     "cell_type": "markdown",
     "source": [
      "* Article at Ynet claiming that Israel is the 12th most poluted country in the world.\n",
      "* \u0399 didn't believe that.\n",
      "* Found data and decided to test claim with pandas!"
     ]
    },
    {
     "cell_type": "code",
     "collapsed": false,
     "input": [
      "Image(filename='zium500.jpg')"
     ],
     "language": "python",
     "outputs": [
      {
       "jpeg": "[encoded data removed]",
       "output_type": "pyout",
       "prompt_number": 158,
       "text": [
        "<IPython.core.display.Image at 0x7f963dc622d0>"
       ]
      }
     ],
     "prompt_number": 158
    },
    {
     "cell_type": "heading",
     "level": 1,
     "source": [
      "Get the data"
     ]
    },
    {
     "cell_type": "code",
     "collapsed": false,
     "input": [
      "import urlgrabber, os\n",
      "\n",
      "# Found data on WHO server\n",
      "url = 'http://www.who.int/entity/quantifying_ehimpacts/national/countryprofile/AAP_PM_database_May2014.xls?ua=1'\n",
      "filename = 'AAP_PM_database_May2014.xls'\n",
      "if not os.path.exists(filename):\n",
      "  urlgrabber.urlgrab(url, filename=filename)\n",
      "a=pd.read_excel(filename,\n",
      "                'cities',\n",
      "                skiprows=1,skip_footer=10)  # <- From manual inspection\n",
      "\n",
      "# Some cleanup of country names\n",
      "a.Country = a.Country.str.strip()\n",
      "\n",
      "a.columns"
     ],
     "language": "python",
     "outputs": [
      {
       "output_type": "pyout",
       "prompt_number": 141,
       "text": [
        "Index([                 u'Region',               u'Subregion',\n",
        "                       u'Country',            u'City/station',\n",
        "                          u'PM10',                  u'PM10.1',\n",
        "        u'note on converted PM10',                  u'PM 2.5',\n",
        "                         u'PM2.5', u'note on converted PM2.5',\n",
        "        u'of monitoring stations',       u'Temporal coverage',\n",
        "               u'for air quality',             u'Unnamed: 13',\n",
        "                   u'Unnamed: 14'],\n",
        "      dtype='object')"
       ]
      }
     ],
     "prompt_number": 141
    },
    {
     "cell_type": "code",
     "collapsed": false,
     "input": [
      "a.shape"
     ],
     "language": "python",
     "outputs": [
      {
       "output_type": "pyout",
       "prompt_number": 142,
       "text": [
        "(1622, 15)"
       ]
      }
     ],
     "prompt_number": 142
    },
    {
     "cell_type": "heading",
     "level": 1,
     "source": [
      "Plot PM10"
     ]
    },
    {
     "cell_type": "code",
     "collapsed": false,
     "input": [
      "a.PM10.hist(bins=40)"
     ],
     "language": "python",
     "outputs": [
      {
       "output_type": "pyout",
       "prompt_number": 143,
       "text": [
        "<matplotlib.axes._subplots.AxesSubplot at 0x7f963ddd5a90>"
       ]
      },
      {
       "output_type": "display_data",
       "png": "[encoded data removed]",
       "text": [
        "<matplotlib.figure.Figure at 0x7f963de45ed0>"
       ]
      }
     ],
     "prompt_number": 143
    },
    {
     "cell_type": "heading",
     "level": 1,
     "source": [
      "Israely cities"
     ]
    },
    {
     "cell_type": "code",
     "collapsed": false,
     "input": [
      "pm10_israel = a[a.Country=='Israel'][['City/station','PM10']].sort('PM10'); pm10_israel"
     ],
     "language": "python",
     "outputs": [
      {
       "html": [
        "<div style=\"max-width:1500px;overflow:auto;\">\n",
        "<table border=\"1\" class=\"dataframe\">\n",
        "  <thead>\n",
        "    <tr style=\"text-align: right;\">\n",
        "      <th></th>\n",
        "      <th>City/station</th>\n",
        "      <th>PM10</th>\n",
        "    </tr>\n",
        "  </thead>\n",
        "  <tbody>\n",
        "    <tr>\n",
        "      <th>978</th>\n",
        "      <td>Haifa (Metropolitan)</td>\n",
        "      <td>45.333333</td>\n",
        "    </tr>\n",
        "    <tr>\n",
        "      <th>977</th>\n",
        "      <td>Hadera</td>\n",
        "      <td>46.000000</td>\n",
        "    </tr>\n",
        "    <tr>\n",
        "      <th>979</th>\n",
        "      <td>Heftzibah (Gilboa-Beit Shean Valley -northeast...</td>\n",
        "      <td>53.000000</td>\n",
        "    </tr>\n",
        "    <tr>\n",
        "      <th>972</th>\n",
        "      <td>Ashdod</td>\n",
        "      <td>62.000000</td>\n",
        "    </tr>\n",
        "    <tr>\n",
        "      <th>985</th>\n",
        "      <td>Rehovot</td>\n",
        "      <td>63.000000</td>\n",
        "    </tr>\n",
        "    <tr>\n",
        "      <th>980</th>\n",
        "      <td>Karmei Yosef - (rural) Gezer Region</td>\n",
        "      <td>66.000000</td>\n",
        "    </tr>\n",
        "    <tr>\n",
        "      <th>987</th>\n",
        "      <td>Tel Aviv (Metropolitan)</td>\n",
        "      <td>66.750000</td>\n",
        "    </tr>\n",
        "    <tr>\n",
        "      <th>974</th>\n",
        "      <td>Beersheva</td>\n",
        "      <td>68.000000</td>\n",
        "    </tr>\n",
        "    <tr>\n",
        "      <th>975</th>\n",
        "      <td>Beit Shemesh</td>\n",
        "      <td>68.000000</td>\n",
        "    </tr>\n",
        "    <tr>\n",
        "      <th>981</th>\n",
        "      <td>Kibbutz Erez (southwestern Israel)</td>\n",
        "      <td>68.000000</td>\n",
        "    </tr>\n",
        "    <tr>\n",
        "      <th>984</th>\n",
        "      <td>Modi'in</td>\n",
        "      <td>69.500000</td>\n",
        "    </tr>\n",
        "    <tr>\n",
        "      <th>973</th>\n",
        "      <td>Ashkelon</td>\n",
        "      <td>74.000000</td>\n",
        "    </tr>\n",
        "    <tr>\n",
        "      <th>976</th>\n",
        "      <td>Gadera</td>\n",
        "      <td>NaN</td>\n",
        "    </tr>\n",
        "    <tr>\n",
        "      <th>982</th>\n",
        "      <td>Kibbutz Sde Yoav (rural southern Israel)</td>\n",
        "      <td>NaN</td>\n",
        "    </tr>\n",
        "    <tr>\n",
        "      <th>983</th>\n",
        "      <td>Kiryat Malachi</td>\n",
        "      <td>NaN</td>\n",
        "    </tr>\n",
        "    <tr>\n",
        "      <th>986</th>\n",
        "      <td>Sderot</td>\n",
        "      <td>NaN</td>\n",
        "    </tr>\n",
        "  </tbody>\n",
        "</table>\n",
        "</div>"
       ],
       "output_type": "pyout",
       "prompt_number": 144,
       "text": [
        "                                          City/station       PM10\n",
        "978                               Haifa (Metropolitan)  45.333333\n",
        "977                                             Hadera  46.000000\n",
        "979  Heftzibah (Gilboa-Beit Shean Valley -northeast...  53.000000\n",
        "972                                             Ashdod  62.000000\n",
        "985                                            Rehovot  63.000000\n",
        "980                Karmei Yosef - (rural) Gezer Region  66.000000\n",
        "987                            Tel Aviv (Metropolitan)  66.750000\n",
        "974                                          Beersheva  68.000000\n",
        "975                                      Beit Shemesh   68.000000\n",
        "981                 Kibbutz Erez (southwestern Israel)  68.000000\n",
        "984                                            Modi'in  69.500000\n",
        "973                                           Ashkelon  74.000000\n",
        "976                                             Gadera        NaN\n",
        "982           Kibbutz Sde Yoav (rural southern Israel)        NaN\n",
        "983                                     Kiryat Malachi        NaN\n",
        "986                                             Sderot        NaN"
       ]
      }
     ],
     "prompt_number": 144
    },
    {
     "cell_type": "heading",
     "level": 1,
     "source": [
      "Graphically"
     ]
    },
    {
     "cell_type": "code",
     "collapsed": false,
     "input": [
      "pm10_israel_plot = pm10_israel.copy()\n",
      "pm10_israel_plot['City'] = pm10_israel['City/station'].str[0:10]\n",
      "pm10_israel_plot.drop('City/station',axis=1).dropna().set_index('City').plot(kind='barh')\n"
     ],
     "language": "python",
     "outputs": [
      {
       "output_type": "pyout",
       "prompt_number": 145,
       "text": [
        "<matplotlib.axes._subplots.AxesSubplot at 0x7f963daaac50>"
       ]
      },
      {
       "output_type": "display_data",
       "png": "[encoded data removed]",
       "text": [
        "<matplotlib.figure.Figure at 0x7f9644c40190>"
       ]
      }
     ],
     "prompt_number": 145
    },
    {
     "cell_type": "heading",
     "level": 1,
     "source": [
      "Groupby by country and compare mean and max values"
     ]
    },
    {
     "cell_type": "code",
     "collapsed": false,
     "input": [
      "# By using groupby we can compare israel to other countries.\n",
      "g = a.groupby('Country')\n",
      "pm10_mean = g.PM10.mean().order().dropna()\n",
      "pm10_max = g.PM10.max().order().dropna()\n",
      "pm10_mean.tail(13)"
     ],
     "language": "python",
     "outputs": [
      {
       "output_type": "pyout",
       "prompt_number": 146,
       "text": [
        "Country\n",
        "India                   102.000000\n",
        "Mongolia                109.875000\n",
        "Nepal                   114.000000\n",
        "Jordan                  127.900000\n",
        "Egypt                   137.500000\n",
        "Bangladesh              153.500000\n",
        "United Arab Emirates    159.666667\n",
        "Qatar                   159.816667\n",
        "Iran                    177.046667\n",
        "Senegal                 179.000000\n",
        "Bahrain                 249.620000\n",
        "Afghanistan             297.000000\n",
        "Pakistan                364.750000\n",
        "Name: PM10, dtype: float64"
       ]
      }
     ],
     "prompt_number": 146
    },
    {
     "cell_type": "heading",
     "level": 1,
     "source": [
      "Count places worse than Israel"
     ]
    },
    {
     "cell_type": "code",
     "collapsed": false,
     "input": [
      "count_max = (pm10_max >= pm10_max['Israel']).sum(); count_max"
     ],
     "language": "python",
     "outputs": [
      {
       "output_type": "pyout",
       "prompt_number": 147,
       "text": [
        "29"
       ]
      }
     ],
     "prompt_number": 147
    },
    {
     "cell_type": "code",
     "collapsed": false,
     "input": [
      "count_mean = (pm10_mean >= pm10_mean['Israel']).sum() ; count_mean"
     ],
     "language": "python",
     "outputs": [
      {
       "output_type": "pyout",
       "prompt_number": 148,
       "text": [
        "24"
       ]
      }
     ],
     "prompt_number": 148
    },
    {
     "cell_type": "heading",
     "level": 1,
     "source": [
      "What places are worse than Israel?"
     ]
    },
    {
     "cell_type": "code",
     "collapsed": false,
     "input": [
      "smean = pm10_mean.tail(count_mean)\n",
      "my_color = ['r' if lbl=='Israel' else 'b' for lbl in smean.index]\n",
      "ax=smean.plot(kind='barh',color=my_color)\n",
      "ax.set_xlabel('PM10')"
     ],
     "language": "python",
     "outputs": [
      {
       "output_type": "pyout",
       "prompt_number": 149,
       "text": [
        "<matplotlib.text.Text at 0x7f963dd10910>"
       ]
      },
      {
       "output_type": "display_data",
       "png": "[encoded data removed]",
       "text": [
        "<matplotlib.figure.Figure at 0x7f9644c84450>"
       ]
      }
     ],
     "prompt_number": 149
    },
    {
     "cell_type": "heading",
     "level": 1,
     "source": [
      "The same for max"
     ]
    },
    {
     "cell_type": "code",
     "collapsed": false,
     "input": [
      "smax = pm10_max.tail(count_max)\n",
      "my_color = ['r' if lbl=='Israel' else 'b' for lbl in smax.index]\n",
      "ax=smax.plot(kind='barh',color=my_color)\n",
      "ax.set_xlabel('PM10')\n"
     ],
     "language": "python",
     "outputs": [
      {
       "output_type": "pyout",
       "prompt_number": 150,
       "text": [
        "<matplotlib.text.Text at 0x7f963dbc6610>"
       ]
      },
      {
       "output_type": "display_data",
       "png": "[encoded data removed]",
       "text": [
        "<matplotlib.figure.Figure at 0x7f963dcc2cd0>"
       ]
      }
     ],
     "prompt_number": 150
    },
    {
     "cell_type": "heading",
     "level": 1,
     "source": [
      "More data access"
     ]
    },
    {
     "cell_type": "markdown",
     "source": [
      "* 285kb SQL file\n",
      "* Can build data frames from sql expressions"
     ]
    },
    {
     "cell_type": "code",
     "collapsed": false,
     "input": [
      "import sqlite3\n",
      "\n",
      "con = sqlite3.connect('Northwind.sqlite')\n",
      "Products = pd.read_sql('SELECT * from Product', con)\n",
      "OrderDetails = pd.read_sql('SELECT * from OrderDetail', con)\n",
      "\n",
      "OrderDetails.head()"
     ],
     "language": "python",
     "outputs": [
      {
       "html": [
        "<div style=\"max-width:1500px;overflow:auto;\">\n",
        "<table border=\"1\" class=\"dataframe\">\n",
        "  <thead>\n",
        "    <tr style=\"text-align: right;\">\n",
        "      <th></th>\n",
        "      <th>Id</th>\n",
        "      <th>OrderId</th>\n",
        "      <th>ProductId</th>\n",
        "      <th>UnitPrice</th>\n",
        "      <th>Quantity</th>\n",
        "      <th>Discount</th>\n",
        "    </tr>\n",
        "  </thead>\n",
        "  <tbody>\n",
        "    <tr>\n",
        "      <th>0</th>\n",
        "      <td>10248/11</td>\n",
        "      <td>10248</td>\n",
        "      <td>11</td>\n",
        "      <td>14.0</td>\n",
        "      <td>12</td>\n",
        "      <td>0</td>\n",
        "    </tr>\n",
        "    <tr>\n",
        "      <th>1</th>\n",
        "      <td>10248/42</td>\n",
        "      <td>10248</td>\n",
        "      <td>42</td>\n",
        "      <td>9.8</td>\n",
        "      <td>10</td>\n",
        "      <td>0</td>\n",
        "    </tr>\n",
        "    <tr>\n",
        "      <th>2</th>\n",
        "      <td>10248/72</td>\n",
        "      <td>10248</td>\n",
        "      <td>72</td>\n",
        "      <td>34.8</td>\n",
        "      <td>5</td>\n",
        "      <td>0</td>\n",
        "    </tr>\n",
        "    <tr>\n",
        "      <th>3</th>\n",
        "      <td>10249/14</td>\n",
        "      <td>10249</td>\n",
        "      <td>14</td>\n",
        "      <td>18.6</td>\n",
        "      <td>9</td>\n",
        "      <td>0</td>\n",
        "    </tr>\n",
        "    <tr>\n",
        "      <th>4</th>\n",
        "      <td>10249/51</td>\n",
        "      <td>10249</td>\n",
        "      <td>51</td>\n",
        "      <td>42.4</td>\n",
        "      <td>40</td>\n",
        "      <td>0</td>\n",
        "    </tr>\n",
        "  </tbody>\n",
        "</table>\n",
        "</div>"
       ],
       "output_type": "pyout",
       "prompt_number": 151,
       "text": [
        "         Id  OrderId  ProductId  UnitPrice  Quantity  Discount\n",
        "0  10248/11    10248         11       14.0        12         0\n",
        "1  10248/42    10248         42        9.8        10         0\n",
        "2  10248/72    10248         72       34.8         5         0\n",
        "3  10249/14    10249         14       18.6         9         0\n",
        "4  10249/51    10249         51       42.4        40         0"
       ]
      }
     ],
     "prompt_number": 151
    },
    {
     "cell_type": "code",
     "collapsed": false,
     "input": [
      "Products.head()"
     ],
     "language": "python",
     "outputs": [
      {
       "html": [
        "<div style=\"max-width:1500px;overflow:auto;\">\n",
        "<table border=\"1\" class=\"dataframe\">\n",
        "  <thead>\n",
        "    <tr style=\"text-align: right;\">\n",
        "      <th></th>\n",
        "      <th>Id</th>\n",
        "      <th>ProductName</th>\n",
        "      <th>SupplierId</th>\n",
        "      <th>CategoryId</th>\n",
        "      <th>QuantityPerUnit</th>\n",
        "      <th>UnitPrice</th>\n",
        "      <th>UnitsInStock</th>\n",
        "      <th>UnitsOnOrder</th>\n",
        "      <th>ReorderLevel</th>\n",
        "      <th>Discontinued</th>\n",
        "    </tr>\n",
        "  </thead>\n",
        "  <tbody>\n",
        "    <tr>\n",
        "      <th>0</th>\n",
        "      <td>1</td>\n",
        "      <td>Chai</td>\n",
        "      <td>1</td>\n",
        "      <td>1</td>\n",
        "      <td>10 boxes x 20 bags</td>\n",
        "      <td>18.00</td>\n",
        "      <td>39</td>\n",
        "      <td>0</td>\n",
        "      <td>10</td>\n",
        "      <td>0</td>\n",
        "    </tr>\n",
        "    <tr>\n",
        "      <th>1</th>\n",
        "      <td>2</td>\n",
        "      <td>Chang</td>\n",
        "      <td>1</td>\n",
        "      <td>1</td>\n",
        "      <td>24 - 12 oz bottles</td>\n",
        "      <td>19.00</td>\n",
        "      <td>17</td>\n",
        "      <td>40</td>\n",
        "      <td>25</td>\n",
        "      <td>0</td>\n",
        "    </tr>\n",
        "    <tr>\n",
        "      <th>2</th>\n",
        "      <td>3</td>\n",
        "      <td>Aniseed Syrup</td>\n",
        "      <td>1</td>\n",
        "      <td>2</td>\n",
        "      <td>12 - 550 ml bottles</td>\n",
        "      <td>10.00</td>\n",
        "      <td>13</td>\n",
        "      <td>70</td>\n",
        "      <td>25</td>\n",
        "      <td>0</td>\n",
        "    </tr>\n",
        "    <tr>\n",
        "      <th>3</th>\n",
        "      <td>4</td>\n",
        "      <td>Chef Anton's Cajun Seasoning</td>\n",
        "      <td>2</td>\n",
        "      <td>2</td>\n",
        "      <td>48 - 6 oz jars</td>\n",
        "      <td>22.00</td>\n",
        "      <td>53</td>\n",
        "      <td>0</td>\n",
        "      <td>0</td>\n",
        "      <td>0</td>\n",
        "    </tr>\n",
        "    <tr>\n",
        "      <th>4</th>\n",
        "      <td>5</td>\n",
        "      <td>Chef Anton's Gumbo Mix</td>\n",
        "      <td>2</td>\n",
        "      <td>2</td>\n",
        "      <td>36 boxes</td>\n",
        "      <td>21.35</td>\n",
        "      <td>0</td>\n",
        "      <td>0</td>\n",
        "      <td>0</td>\n",
        "      <td>1</td>\n",
        "    </tr>\n",
        "  </tbody>\n",
        "</table>\n",
        "</div>"
       ],
       "output_type": "pyout",
       "prompt_number": 152,
       "text": [
        "   Id                   ProductName  SupplierId  CategoryId  \\\n",
        "0   1                          Chai           1           1   \n",
        "1   2                         Chang           1           1   \n",
        "2   3                 Aniseed Syrup           1           2   \n",
        "3   4  Chef Anton's Cajun Seasoning           2           2   \n",
        "4   5        Chef Anton's Gumbo Mix           2           2   \n",
        "\n",
        "       QuantityPerUnit  UnitPrice  UnitsInStock  UnitsOnOrder  ReorderLevel  \\\n",
        "0   10 boxes x 20 bags      18.00            39             0            10   \n",
        "1   24 - 12 oz bottles      19.00            17            40            25   \n",
        "2  12 - 550 ml bottles      10.00            13            70            25   \n",
        "3       48 - 6 oz jars      22.00            53             0             0   \n",
        "4             36 boxes      21.35             0             0             0   \n",
        "\n",
        "   Discontinued  \n",
        "0             0  \n",
        "1             0  \n",
        "2             0  \n",
        "3             0  \n",
        "4             1  "
       ]
      }
     ],
     "prompt_number": 152
    },
    {
     "cell_type": "code",
     "collapsed": false,
     "input": [
      "result = pd.merge(OrderDetails,\n",
      "                  Products.rename(columns={'Id':'ProductId'}),\n",
      "                  on='ProductId')\n",
      "print result.head(2)"
     ],
     "language": "python",
     "outputs": [
      {
       "output_type": "stream",
       "stream": "stdout",
       "text": [
        "         Id  OrderId  ProductId  UnitPrice_x  Quantity  Discount  \\\n",
        "0  10248/11    10248         11         14.0        12         0   \n",
        "1  10296/11    10296         11         16.8        12         0   \n",
        "\n",
        "      ProductName  SupplierId  CategoryId QuantityPerUnit  UnitPrice_y  \\\n",
        "0  Queso Cabrales           5           4       1 kg pkg.           21   \n",
        "1  Queso Cabrales           5           4       1 kg pkg.           21   \n",
        "\n",
        "   UnitsInStock  UnitsOnOrder  ReorderLevel  Discontinued  \n",
        "0            22            30            30             0  \n",
        "1            22            30            30             0  \n"
       ]
      }
     ],
     "prompt_number": 153
    },
    {
     "cell_type": "heading",
     "level": 1,
     "source": [
      "Compare with SQL queries"
     ]
    },
    {
     "cell_type": "code",
     "collapsed": false,
     "input": [
      "left_frame = pd.DataFrame({'key': range(5), \n",
      "                           'left_value': ['a', 'b', 'c', 'd', 'e']})\n",
      "right_frame = pd.DataFrame({'key': range(2, 7), \n",
      "                           'right_value': ['f', 'g', 'h', 'i', 'j']})\n",
      "left_frame"
     ],
     "language": "python",
     "outputs": [
      {
       "html": [
        "<div style=\"max-width:1500px;overflow:auto;\">\n",
        "<table border=\"1\" class=\"dataframe\">\n",
        "  <thead>\n",
        "    <tr style=\"text-align: right;\">\n",
        "      <th></th>\n",
        "      <th>key</th>\n",
        "      <th>left_value</th>\n",
        "    </tr>\n",
        "  </thead>\n",
        "  <tbody>\n",
        "    <tr>\n",
        "      <th>0</th>\n",
        "      <td>0</td>\n",
        "      <td>a</td>\n",
        "    </tr>\n",
        "    <tr>\n",
        "      <th>1</th>\n",
        "      <td>1</td>\n",
        "      <td>b</td>\n",
        "    </tr>\n",
        "    <tr>\n",
        "      <th>2</th>\n",
        "      <td>2</td>\n",
        "      <td>c</td>\n",
        "    </tr>\n",
        "    <tr>\n",
        "      <th>3</th>\n",
        "      <td>3</td>\n",
        "      <td>d</td>\n",
        "    </tr>\n",
        "    <tr>\n",
        "      <th>4</th>\n",
        "      <td>4</td>\n",
        "      <td>e</td>\n",
        "    </tr>\n",
        "  </tbody>\n",
        "</table>\n",
        "</div>"
       ],
       "output_type": "pyout",
       "prompt_number": 154,
       "text": [
        "   key left_value\n",
        "0    0          a\n",
        "1    1          b\n",
        "2    2          c\n",
        "3    3          d\n",
        "4    4          e"
       ]
      }
     ],
     "prompt_number": 154
    },
    {
     "cell_type": "code",
     "collapsed": false,
     "input": [
      "right_frame"
     ],
     "language": "python",
     "outputs": [
      {
       "html": [
        "<div style=\"max-width:1500px;overflow:auto;\">\n",
        "<table border=\"1\" class=\"dataframe\">\n",
        "  <thead>\n",
        "    <tr style=\"text-align: right;\">\n",
        "      <th></th>\n",
        "      <th>key</th>\n",
        "      <th>right_value</th>\n",
        "    </tr>\n",
        "  </thead>\n",
        "  <tbody>\n",
        "    <tr>\n",
        "      <th>0</th>\n",
        "      <td>2</td>\n",
        "      <td>f</td>\n",
        "    </tr>\n",
        "    <tr>\n",
        "      <th>1</th>\n",
        "      <td>3</td>\n",
        "      <td>g</td>\n",
        "    </tr>\n",
        "    <tr>\n",
        "      <th>2</th>\n",
        "      <td>4</td>\n",
        "      <td>h</td>\n",
        "    </tr>\n",
        "    <tr>\n",
        "      <th>3</th>\n",
        "      <td>5</td>\n",
        "      <td>i</td>\n",
        "    </tr>\n",
        "    <tr>\n",
        "      <th>4</th>\n",
        "      <td>6</td>\n",
        "      <td>j</td>\n",
        "    </tr>\n",
        "  </tbody>\n",
        "</table>\n",
        "</div>"
       ],
       "output_type": "pyout",
       "prompt_number": 155,
       "text": [
        "   key right_value\n",
        "0    2           f\n",
        "1    3           g\n",
        "2    4           h\n",
        "3    5           i\n",
        "4    6           j"
       ]
      }
     ],
     "prompt_number": 155
    },
    {
     "cell_type": "heading",
     "level": 1,
     "source": [
      "Inner join"
     ]
    },
    {
     "cell_type": "code",
     "collapsed": false,
     "input": [
      " pd.merge(left_frame, right_frame, on='key', how='inner')"
     ],
     "language": "python",
     "outputs": [
      {
       "html": [
        "<div style=\"max-width:1500px;overflow:auto;\">\n",
        "<table border=\"1\" class=\"dataframe\">\n",
        "  <thead>\n",
        "    <tr style=\"text-align: right;\">\n",
        "      <th></th>\n",
        "      <th>key</th>\n",
        "      <th>left_value</th>\n",
        "      <th>right_value</th>\n",
        "    </tr>\n",
        "  </thead>\n",
        "  <tbody>\n",
        "    <tr>\n",
        "      <th>0</th>\n",
        "      <td>2</td>\n",
        "      <td>c</td>\n",
        "      <td>f</td>\n",
        "    </tr>\n",
        "    <tr>\n",
        "      <th>1</th>\n",
        "      <td>3</td>\n",
        "      <td>d</td>\n",
        "      <td>g</td>\n",
        "    </tr>\n",
        "    <tr>\n",
        "      <th>2</th>\n",
        "      <td>4</td>\n",
        "      <td>e</td>\n",
        "      <td>h</td>\n",
        "    </tr>\n",
        "  </tbody>\n",
        "</table>\n",
        "</div>"
       ],
       "output_type": "pyout",
       "prompt_number": 156,
       "text": [
        "   key left_value right_value\n",
        "0    2          c           f\n",
        "1    3          d           g\n",
        "2    4          e           h"
       ]
      }
     ],
     "prompt_number": 156
    },
    {
     "cell_type": "raw",
     "source": [
      "## In SQL\n",
      "* In SQL - Which is nicer?\n",
      "\n",
      "```\n",
      "SELECT left_frame.key, left_frame.left_value, right_frame.right_value\n",
      "    FROM left_frame\n",
      "    INNER JOIN right_frame\n",
      "        ON left_frame.key = right_frame.key;\n",
      "```"
     ]
    },
    {
     "cell_type": "heading",
     "level": 1,
     "source": [
      "Speed"
     ]
    },
    {
     "cell_type": "markdown",
     "source": [
      "* For in memory databases up to 3 times faster than SQLite3 (even with index) (from Blog entry 2012)."
     ]
    },
    {
     "cell_type": "markdown",
     "source": [
      "# Remote Data Access\n",
      "\n",
      "Pandas comes with prebuilt access to lots of data sources.\n",
      "\n",
      "* Yahoo Finance\n",
      "* Google Finance\n",
      "* World bank\n"
     ]
    },
    {
     "cell_type": "heading",
     "level": 1,
     "source": [
      "World bank indicators"
     ]
    },
    {
     "cell_type": "markdown",
     "source": [
      "* World bank compiles a large list of *indicators*.\n",
      "* panda.io.wb - searching and downloading."
     ]
    },
    {
     "cell_type": "code",
     "collapsed": false,
     "input": [
      "from pandas.io import wb\n",
      "data = wb.download(indicator='FP.CPI.TOTL.ZG', country=['US','SE','GR','IL'], start=1995, end=2012)\n",
      "df = data.unstack('country')\n",
      "df.columns = df.columns.droplevel(0)\n",
      "ax = df.plot(title='Inflation')"
     ],
     "language": "python",
     "outputs": [
      {
       "output_type": "display_data",
       "png": "[encoded data removed]",
       "text": [
        "<matplotlib.figure.Figure at 0x7f9644ba1b10>"
       ]
      }
     ],
     "prompt_number": 157
    },
    {
     "cell_type": "heading",
     "level": 1,
     "source": [
      "Echo system"
     ]
    },
    {
     "cell_type": "markdown",
     "source": [
      "## Statistics and machine learning\n",
      "* scikit-learn - machine learning in Python\n",
      "* Statsmodels - statistics\n",
      "* pgmpy - Probabilistic graphical models (bayesian models)\n",
      "\n",
      "## Visualization\n",
      "* ggplot - Plotting like in R (grammer of graphics)\n",
      "* Bokeh - large datasets through web technologies\n",
      "* Seaborn - Layer for lots of plot types on top of matplotlib/pnas\n",
      "* Vincent d3 plots\n",
      "\n",
      "## IDE / Interaction\n",
      "* ipython\n",
      "* quantopian/qgrid - Interactive queries of pandas frames\n"
     ]
    },
    {
     "cell_type": "heading",
     "level": 1,
     "source": [
      "Summary"
     ]
    },
    {
     "cell_type": "markdown",
     "source": [
      "* Great for data analysis\n",
      "* Integration with python echo system.\n",
      "* pandas a great alternative to SQL, Excel, and R for data analysis in python.\n",
      "* Powerful query language.\n",
      "* Integrated plotting\n",
      "* Integrated with ipython notebook.\n",
      "* Fun! :-)"
     ]
    },
    {
     "cell_type": "heading",
     "level": 1,
     "source": [
      "\u05ea\u05d5\u05d3\u05d4 \u05e8\u05d1\u05d4!\u200f"
     ]
    }
   ]
  }
 ]
}